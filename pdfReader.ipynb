{
 "cells": [
  {
   "cell_type": "code",
   "execution_count": 1,
   "id": "37c1425e",
   "metadata": {},
   "outputs": [],
   "source": [
    "import os\n",
    "from langchain.llms import OpenAI\n",
    "from langchain.embeddings import OpenAIEmbeddings\n",
    "from langchain.document_loaders import PyPDFLoader\n",
    "from langchain.vectorstores import Chroma\n",
    "from langchain.agents.agent_toolkits import create_vectorstore_agent, VectorStoreToolkit, VectorStoreInfo\n"
   ]
  },
  {
   "cell_type": "code",
   "execution_count": 2,
   "id": "df611d5f",
   "metadata": {},
   "outputs": [],
   "source": [
    "os.environ['OPENAI_API_KEY'] = ''\n"
   ]
  },
  {
   "cell_type": "code",
   "execution_count": 3,
   "id": "d5c346a1",
   "metadata": {},
   "outputs": [
    {
     "name": "stdout",
     "output_type": "stream",
     "text": [
      "Requirement already satisfied: langchain-openai in c:\\users\\dell\\anaconda3\\lib\\site-packages (0.0.5)Note: you may need to restart the kernel to use updated packages.\n",
      "\n",
      "Requirement already satisfied: langchain-core<0.2,>=0.1.16 in c:\\users\\dell\\anaconda3\\lib\\site-packages (from langchain-openai) (0.1.21)\n",
      "Requirement already satisfied: numpy<2,>=1 in c:\\users\\dell\\anaconda3\\lib\\site-packages (from langchain-openai) (1.24.3)\n",
      "Requirement already satisfied: openai<2.0.0,>=1.10.0 in c:\\users\\dell\\anaconda3\\lib\\site-packages (from langchain-openai) (1.12.0)\n",
      "Requirement already satisfied: tiktoken<0.6.0,>=0.5.2 in c:\\users\\dell\\anaconda3\\lib\\site-packages (from langchain-openai) (0.5.2)\n",
      "Requirement already satisfied: PyYAML>=5.3 in c:\\users\\dell\\anaconda3\\lib\\site-packages (from langchain-core<0.2,>=0.1.16->langchain-openai) (6.0)\n",
      "Requirement already satisfied: anyio<5,>=3 in c:\\users\\dell\\anaconda3\\lib\\site-packages (from langchain-core<0.2,>=0.1.16->langchain-openai) (3.5.0)\n",
      "Requirement already satisfied: jsonpatch<2.0,>=1.33 in c:\\users\\dell\\anaconda3\\lib\\site-packages (from langchain-core<0.2,>=0.1.16->langchain-openai) (1.33)\n",
      "Requirement already satisfied: langsmith<0.0.88,>=0.0.87 in c:\\users\\dell\\anaconda3\\lib\\site-packages (from langchain-core<0.2,>=0.1.16->langchain-openai) (0.0.87)\n",
      "Requirement already satisfied: packaging<24.0,>=23.2 in c:\\users\\dell\\anaconda3\\lib\\site-packages (from langchain-core<0.2,>=0.1.16->langchain-openai) (23.2)\n",
      "Requirement already satisfied: pydantic<3,>=1 in c:\\users\\dell\\anaconda3\\lib\\site-packages (from langchain-core<0.2,>=0.1.16->langchain-openai) (1.10.8)\n",
      "Requirement already satisfied: requests<3,>=2 in c:\\users\\dell\\anaconda3\\lib\\site-packages (from langchain-core<0.2,>=0.1.16->langchain-openai) (2.31.0)\n",
      "Requirement already satisfied: tenacity<9.0.0,>=8.1.0 in c:\\users\\dell\\anaconda3\\lib\\site-packages (from langchain-core<0.2,>=0.1.16->langchain-openai) (8.2.3)\n",
      "Requirement already satisfied: distro<2,>=1.7.0 in c:\\users\\dell\\anaconda3\\lib\\site-packages (from openai<2.0.0,>=1.10.0->langchain-openai) (1.9.0)\n",
      "Requirement already satisfied: httpx<1,>=0.23.0 in c:\\users\\dell\\anaconda3\\lib\\site-packages (from openai<2.0.0,>=1.10.0->langchain-openai) (0.26.0)\n",
      "Requirement already satisfied: sniffio in c:\\users\\dell\\anaconda3\\lib\\site-packages (from openai<2.0.0,>=1.10.0->langchain-openai) (1.2.0)\n",
      "Requirement already satisfied: tqdm>4 in c:\\users\\dell\\anaconda3\\lib\\site-packages (from openai<2.0.0,>=1.10.0->langchain-openai) (4.65.0)\n",
      "Requirement already satisfied: typing-extensions<5,>=4.7 in c:\\users\\dell\\anaconda3\\lib\\site-packages (from openai<2.0.0,>=1.10.0->langchain-openai) (4.9.0)\n",
      "Requirement already satisfied: regex>=2022.1.18 in c:\\users\\dell\\anaconda3\\lib\\site-packages (from tiktoken<0.6.0,>=0.5.2->langchain-openai) (2022.7.9)\n",
      "Requirement already satisfied: idna>=2.8 in c:\\users\\dell\\anaconda3\\lib\\site-packages (from anyio<5,>=3->langchain-core<0.2,>=0.1.16->langchain-openai) (3.4)\n",
      "Requirement already satisfied: certifi in c:\\users\\dell\\anaconda3\\lib\\site-packages (from httpx<1,>=0.23.0->openai<2.0.0,>=1.10.0->langchain-openai) (2023.7.22)\n",
      "Requirement already satisfied: httpcore==1.* in c:\\users\\dell\\anaconda3\\lib\\site-packages (from httpx<1,>=0.23.0->openai<2.0.0,>=1.10.0->langchain-openai) (1.0.2)\n",
      "Requirement already satisfied: h11<0.15,>=0.13 in c:\\users\\dell\\anaconda3\\lib\\site-packages (from httpcore==1.*->httpx<1,>=0.23.0->openai<2.0.0,>=1.10.0->langchain-openai) (0.14.0)\n",
      "Requirement already satisfied: jsonpointer>=1.9 in c:\\users\\dell\\anaconda3\\lib\\site-packages (from jsonpatch<2.0,>=1.33->langchain-core<0.2,>=0.1.16->langchain-openai) (2.1)\n",
      "Requirement already satisfied: charset-normalizer<4,>=2 in c:\\users\\dell\\anaconda3\\lib\\site-packages (from requests<3,>=2->langchain-core<0.2,>=0.1.16->langchain-openai) (3.3.2)\n",
      "Requirement already satisfied: urllib3<3,>=1.21.1 in c:\\users\\dell\\anaconda3\\lib\\site-packages (from requests<3,>=2->langchain-core<0.2,>=0.1.16->langchain-openai) (2.2.0)\n",
      "Requirement already satisfied: colorama in c:\\users\\dell\\anaconda3\\lib\\site-packages (from tqdm>4->openai<2.0.0,>=1.10.0->langchain-openai) (0.4.6)\n"
     ]
    }
   ],
   "source": [
    "pip install -U langchain-openai"
   ]
  },
  {
   "cell_type": "code",
   "execution_count": 4,
   "id": "70a22911",
   "metadata": {},
   "outputs": [],
   "source": [
    "from langchain_openai import OpenAI"
   ]
  },
  {
   "cell_type": "code",
   "execution_count": 5,
   "id": "f4a6bbbb",
   "metadata": {},
   "outputs": [],
   "source": [
    "from langchain_openai import OpenAIEmbeddings"
   ]
  },
  {
   "cell_type": "code",
   "execution_count": 6,
   "id": "dee1e20d",
   "metadata": {},
   "outputs": [],
   "source": [
    "llm = OpenAI(temperature=0.1, verbose=True)\n",
    "embeddings = OpenAIEmbeddings()\n"
   ]
  },
  {
   "cell_type": "code",
   "execution_count": 7,
   "id": "94f6013c",
   "metadata": {},
   "outputs": [],
   "source": [
    "loader = PyPDFLoader('annualreport.pdf')\n",
    "pages = loader.load_and_split()\n"
   ]
  },
  {
   "cell_type": "code",
   "execution_count": 8,
   "id": "1d6eafd4",
   "metadata": {},
   "outputs": [],
   "source": [
    "store = Chroma.from_documents(pages, embeddings, collection_name='annualreport')\n"
   ]
  },
  {
   "cell_type": "code",
   "execution_count": 9,
   "id": "d6ff5668",
   "metadata": {},
   "outputs": [],
   "source": [
    "vectorstore_info = VectorStoreInfo(\n",
    "    name=\"annual_report\",\n",
    "    description=\"a banking annual report as a pdf\",\n",
    "    vectorstore=store\n",
    ")\n"
   ]
  },
  {
   "cell_type": "code",
   "execution_count": 10,
   "id": "06400e4b",
   "metadata": {},
   "outputs": [],
   "source": [
    "toolkit = VectorStoreToolkit(vectorstore_info=vectorstore_info)\n"
   ]
  },
  {
   "cell_type": "code",
   "execution_count": 11,
   "id": "64e805e6",
   "metadata": {},
   "outputs": [],
   "source": [
    "agent_executor = create_vectorstore_agent(\n",
    "    llm=llm,\n",
    "    toolkit=toolkit,\n",
    "    verbose=True\n",
    ")\n"
   ]
  },
  {
   "cell_type": "code",
   "execution_count": 12,
   "id": "c12237be",
   "metadata": {},
   "outputs": [
    {
     "name": "stdout",
     "output_type": "stream",
     "text": [
      "Input your prompt here: issue date?\n"
     ]
    }
   ],
   "source": [
    "prompt = input(\"Input your prompt here: \")\n"
   ]
  },
  {
   "cell_type": "code",
   "execution_count": 13,
   "id": "9d9107a5",
   "metadata": {},
   "outputs": [
    {
     "name": "stderr",
     "output_type": "stream",
     "text": [
      "Number of requested results 4 is greater than number of elements in index 2, updating n_results = 2\n"
     ]
    },
    {
     "name": "stdout",
     "output_type": "stream",
     "text": [
      "Most relevant page content:\n",
      "School of Electronics and Computer Science\n",
      "University of Southampton\n",
      "COMP3212(2023/24): Computational Biology Lab Two\n",
      "Issue 12 February 2024\n",
      "Deadline 23 February 2024\n",
      "Objective\n",
      "To fully understand and implement sequence matching and generating algorithms\n",
      "Part 1\n",
      "•Write a program to implement Needleman-Wunsch for proteins\n",
      "•Check that it is working using HEAGAWGHEE versus PAWHEAE\n",
      "•Compare to slide 60 in Lecture 09 - Sequence matching.\n",
      "•Match the protein sequences using your implementation\n",
      "SALPQPTTPVSSFTSGSMLGRTDTALTNTYSAL with PSPTMEAVTSVEASTASHPHSTSSYFATTYYHLY\n",
      "Part 2\n",
      "•Write a program to implement Smith-Waterman for proteins\n",
      "•Check that it is working using HEAGAWGHEE versus PAWHEAE\n",
      "•Compare to slide 34 in Lecture 10 - Local Matching\n",
      "•Using your implementation find the best local match between\n",
      "MQNSHSGVNQLGGVFVNGRPLPDSTRQKIVELAHSGARPCDISRILQVSNGCVSKILGRY\n",
      "andTDDECHSGVNQLGGVFVGGRPLPDSTRQKIVELAHSGARPCDISRI\n",
      "Part 3\n",
      "•Implement an HMM to mimic the dishonest casino in the slides (Lecture 11 HMM pg 7).\n",
      "•Produce a human readable output with both the sequence of numbers and the sequence\n",
      "of states.\n",
      "•Compare your output to that generated on page 36.\n",
      "•Implement an HMM to generate DNA bases along the model below. Use it to generate a\n",
      "long (ca 2000) base sequence\n",
      "•Find some way to display this series\n",
      "1\n"
     ]
    }
   ],
   "source": [
    "# Perform document similarity search\n",
    "search = store.similarity_search_with_score(prompt)\n",
    "    # Print the most relevant page\n",
    "print(\"Most relevant page content:\")\n",
    "print(search[0][0].page_content)"
   ]
  },
  {
   "cell_type": "code",
   "execution_count": null,
   "id": "d3cd06fb",
   "metadata": {},
   "outputs": [],
   "source": []
  },
  {
   "cell_type": "code",
   "execution_count": null,
   "id": "798ea47a",
   "metadata": {},
   "outputs": [],
   "source": []
  }
 ],
 "metadata": {
  "kernelspec": {
   "display_name": "Python 3 (ipykernel)",
   "language": "python",
   "name": "python3"
  },
  "language_info": {
   "codemirror_mode": {
    "name": "ipython",
    "version": 3
   },
   "file_extension": ".py",
   "mimetype": "text/x-python",
   "name": "python",
   "nbconvert_exporter": "python",
   "pygments_lexer": "ipython3",
   "version": "3.11.5"
  }
 },
 "nbformat": 4,
 "nbformat_minor": 5
}
